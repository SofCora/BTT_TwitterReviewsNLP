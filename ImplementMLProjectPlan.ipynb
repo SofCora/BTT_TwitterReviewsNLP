{
 "cells": [
  {
   "cell_type": "markdown",
   "metadata": {},
   "source": [
    "# Lab 8: Implement Your Machine Learning Project Plan"
   ]
  },
  {
   "cell_type": "markdown",
   "metadata": {},
   "source": [
    "In this lab assignment, you will implement the machine learning project plan you created in the written assignment. You will:\n",
    "\n",
    "1. Load your data set and save it to a Pandas DataFrame.\n",
    "2. Perform exploratory data analysis on your data to determine which feature engineering and data preparation techniques you will use.\n",
    "3. Prepare your data for your model and create features and a label.\n",
    "4. Fit your model to the training data and evaluate your model.\n",
    "5. Improve your model by performing model selection and/or feature selection techniques to find best model for your problem.\n"
   ]
  },
  {
   "cell_type": "markdown",
   "metadata": {},
   "source": [
    "### Import Packages\n",
    "\n",
    "Before you get started, import a few packages."
   ]
  },
  {
   "cell_type": "code",
   "execution_count": 1,
   "metadata": {},
   "outputs": [],
   "source": [
    "import pandas as pd\n",
    "import numpy as np\n",
    "import os \n",
    "import matplotlib.pyplot as plt\n",
    "import seaborn as sns"
   ]
  },
  {
   "cell_type": "markdown",
   "metadata": {},
   "source": [
    "<b>Task:</b> In the code cell below, import additional packages that you have used in this course that you will need for this task."
   ]
  },
  {
   "cell_type": "code",
   "execution_count": 44,
   "metadata": {},
   "outputs": [],
   "source": [
    "# YOUR CODE HERE\n",
    "from sklearn.feature_extraction.text import TfidfVectorizer\n",
    "from sklearn.model_selection import train_test_split, GridSearchCV\n",
    "import tensorflow.keras as keras\n",
    "import time\n",
    "from sklearn.metrics import roc_auc_score\n",
    "from keras import layers\n",
    "import gensim\n",
    "\n"
   ]
  },
  {
   "cell_type": "markdown",
   "metadata": {},
   "source": [
    "## Part 1: Load the Data Set\n",
    "\n",
    "\n",
    "I chose the book reviews dataset becasue I wanted to expand upon NLP and learn more about deep neural networks. The overall structure of my model is word embeddings that are mapped to tokens and fed into a recurrent neural network. The word embeddings are input using an embedding layer, it goes through 2 LSTM layers and then an output layer.\n",
    "I wanted to use word embeddings because they aren't sparse like other vectorizers and uitilzes the semantic context between each word through cosine similarity\n",
    "\n",
    "Because what I wanted to do was a bit out of the scope of what we covered in class, I used the following resources to create a shell for my model and figure out how to process word embeddings: \n",
    "<a href=\"https://towardsdatascience.com/machine-learning-word-embedding-sentiment-classification-using-keras-b83c28087456\">word embeddings tutoiral</a>\n",
    "<a href=\"https://www.google.com/url?q=https://stackoverflow.com/questions/38250710/how-to-split-data-into-3-sets-train-validation-and-test&sa=D&source=docs&ust=1691811932916951&usg=AOvVaw04Jx8dffs2JwJipeaD3cKQ\">how to split data into a val set</a>\n",
    "<a href=\"https://keras.io/guides/working_with_rnns/#:~:text=model%20%3D%20keras.Sequential%28%29%20%23%20Add%20an%20Embedding%20layer,a%20Dense%20layer%20with%2010%20units.%20model.add%28layers.Dense%2810%29%29%20model.summary%28%29\">Keras RNN Documentation</a>\n",
    "<a href=\"https://danijar.com/tips-for-training-recurrent-neural-networks/\">Optimizing</a>\n",
    "<a href=\"https://machinelearningmastery.com/gentle-introduction-long-short-term-memory-networks-experts/\">LSTM</a>\n",
    "<a href=\"https://www.bing.com/search?q=gru+layers+in+rnn&cvid=d4fca12d48024661902a22055ced9c00&aqs=edge.0.69i59j69i57j0l5j46j69i60.1461j0j9&FORM=ANAB01&PC=U531\">GRU</a>"
   ]
  },
  {
   "cell_type": "code",
   "execution_count": 3,
   "metadata": {},
   "outputs": [],
   "source": [
    "# YOUR CODE HERE\n",
    "filename = os.path.join(os.getcwd(), \"data\", \"bookReviewsData.csv\")\n",
    "df = pd.read_csv(filename, header=0)"
   ]
  },
  {
   "cell_type": "markdown",
   "metadata": {},
   "source": [
    "## Part 2: Exploratory Data Analysis\n",
    "\n",
    "The next step is to inspect and analyze your data set with your machine learning problem and project plan in mind. \n",
    "\n",
    "This step will help you determine data preparation and feature engineering techniques you will need to apply to your data to build a balanced modeling data set for your problem and model. These data preparation techniques may include:\n",
    "* addressing missingness, such as replacing missing values with means\n",
    "* renaming features and labels\n",
    "* finding and replacing outliers\n",
    "* performing winsorization if needed\n",
    "* performing one-hot encoding on categorical features\n",
    "* performing vectorization for an NLP problem\n",
    "* addressing class imbalance in your data sample to promote fair AI\n",
    "\n",
    "\n",
    "<h2>EDA</h2>\n",
    "Changed the column name so there's no whitespace. Checked for class imbalance and null values. Changed Review column format so its numbers instead of booleans for easier processing"
   ]
  },
  {
   "cell_type": "code",
   "execution_count": 4,
   "metadata": {},
   "outputs": [
    {
     "name": "stdout",
     "output_type": "stream",
     "text": [
      "993\n",
      "980\n",
      "no class imbalance\n",
      "are there any null values? Review         False\n",
      "is_Positive    False\n",
      "dtype: bool\n",
      "                                              Review  is_Positive\n",
      "0  This was perhaps the best of Johannes Steinhof...         True\n",
      "1  This very fascinating book is a story written ...         True\n",
      "2  The four tales in this collection are beautifu...         True\n",
      "3  The book contained more profanity than I expec...        False\n",
      "4  We have now entered a second time of deep conc...         True\n"
     ]
    }
   ],
   "source": [
    "# YOUR CODE HERE\n",
    "\n",
    "df.rename(columns = {'Positive Review':'is_Positive'}, inplace = True)\n",
    "#no class imbalance its like 980 positive 993 negative\n",
    "print(df['is_Positive'].value_counts()[False])\n",
    "print(df['is_Positive'].value_counts()[True])\n",
    "print('no class imbalance')\n",
    "print('are there any null values?', df.isna().any())\n",
    "df['is_Positive']= df['is_Positive'].astype(int)\n",
    "print(df.head())"
   ]
  },
  {
   "cell_type": "code",
   "execution_count": 6,
   "metadata": {},
   "outputs": [
    {
     "data": {
      "text/html": [
       "<div>\n",
       "<style scoped>\n",
       "    .dataframe tbody tr th:only-of-type {\n",
       "        vertical-align: middle;\n",
       "    }\n",
       "\n",
       "    .dataframe tbody tr th {\n",
       "        vertical-align: top;\n",
       "    }\n",
       "\n",
       "    .dataframe thead th {\n",
       "        text-align: right;\n",
       "    }\n",
       "</style>\n",
       "<table border=\"1\" class=\"dataframe\">\n",
       "  <thead>\n",
       "    <tr style=\"text-align: right;\">\n",
       "      <th></th>\n",
       "      <th>Review</th>\n",
       "      <th>is_Positive</th>\n",
       "    </tr>\n",
       "  </thead>\n",
       "  <tbody>\n",
       "    <tr>\n",
       "      <th>0</th>\n",
       "      <td>This was perhaps the best of Johannes Steinhof...</td>\n",
       "      <td>1</td>\n",
       "    </tr>\n",
       "    <tr>\n",
       "      <th>1</th>\n",
       "      <td>This very fascinating book is a story written ...</td>\n",
       "      <td>1</td>\n",
       "    </tr>\n",
       "    <tr>\n",
       "      <th>2</th>\n",
       "      <td>The four tales in this collection are beautifu...</td>\n",
       "      <td>1</td>\n",
       "    </tr>\n",
       "    <tr>\n",
       "      <th>3</th>\n",
       "      <td>The book contained more profanity than I expec...</td>\n",
       "      <td>0</td>\n",
       "    </tr>\n",
       "    <tr>\n",
       "      <th>4</th>\n",
       "      <td>We have now entered a second time of deep conc...</td>\n",
       "      <td>1</td>\n",
       "    </tr>\n",
       "  </tbody>\n",
       "</table>\n",
       "</div>"
      ],
      "text/plain": [
       "                                              Review  is_Positive\n",
       "0  This was perhaps the best of Johannes Steinhof...            1\n",
       "1  This very fascinating book is a story written ...            1\n",
       "2  The four tales in this collection are beautifu...            1\n",
       "3  The book contained more profanity than I expec...            0\n",
       "4  We have now entered a second time of deep conc...            1"
      ]
     },
     "execution_count": 6,
     "metadata": {},
     "output_type": "execute_result"
    }
   ],
   "source": [
    "df.head()\n"
   ]
  },
  {
   "cell_type": "markdown",
   "metadata": {},
   "source": [
    "<h2>Possible Bias in Dataset </h2>\n",
    "I noticed the number of positive reviews with male pronouns was double\n",
    "the amount of positive reviews with female pronouns, implying there's more positive reviews for male authors than female.\n",
    "I decided to use gendered pronouns as a stopwords list to clean the data with to prevent gender bias as a preventative measure.\n",
    "If I hadn't the model could fall into allocative bias, not recommending books by female authors as often than male."
   ]
  },
  {
   "cell_type": "code",
   "execution_count": 7,
   "metadata": {},
   "outputs": [
    {
     "name": "stdout",
     "output_type": "stream",
     "text": [
      "how many reviews with male pronouns that are positive: 359\n",
      "how many reviews with female pronouns are positive: 168\n"
     ]
    }
   ],
   "source": [
    "female_pronouns = [ 'she', 'her']\n",
    "male_pronouns = ['he', 'him', 'his']\n",
    "\n",
    "# Combine the target words into a regular expression pattern\n",
    "m_pattern = r'\\b(?:' + '|'.join(male_pronouns) + r')\\b'\n",
    "f_pattern =  r'\\b(?:' + '|'.join(female_pronouns) + r')\\b'\n",
    "\n",
    "male_df = df[df['Review'].str.contains(m_pattern, case=False, na=False)]\n",
    "female_df = df[df['Review'].str.contains(f_pattern, case=False, na=False)]\n",
    "print('how many reviews with male pronouns that are positive:', (male_df['is_Positive'] == 1).sum())\n",
    "print('how many reviews with female pronouns are positive:',(female_df['is_Positive'] == 1).sum())"
   ]
  },
  {
   "cell_type": "code",
   "execution_count": null,
   "metadata": {},
   "outputs": [],
   "source": []
  },
  {
   "cell_type": "code",
   "execution_count": 8,
   "metadata": {},
   "outputs": [
    {
     "name": "stdout",
     "output_type": "stream",
     "text": [
      "Defaulting to user installation because normal site-packages is not writeable\n",
      "Requirement already satisfied: nltk in /home/codio/.local/lib/python3.6/site-packages (3.6.7)\n",
      "Requirement already satisfied: joblib in /usr/local/lib/python3.6/dist-packages (from nltk) (0.14.1)\n",
      "Requirement already satisfied: tqdm in /home/codio/.local/lib/python3.6/site-packages (from nltk) (4.64.1)\n",
      "Requirement already satisfied: regex>=2021.8.3 in /home/codio/.local/lib/python3.6/site-packages (from nltk) (2023.6.3)\n",
      "Requirement already satisfied: click in /home/codio/.local/lib/python3.6/site-packages (from nltk) (7.1.1)\n",
      "Requirement already satisfied: importlib-resources in /home/codio/.local/lib/python3.6/site-packages (from tqdm->nltk) (5.4.0)\n",
      "Requirement already satisfied: zipp>=3.1.0 in /home/codio/.local/lib/python3.6/site-packages (from importlib-resources->tqdm->nltk) (3.6.0)\n"
     ]
    }
   ],
   "source": [
    "!pip install nltk"
   ]
  },
  {
   "cell_type": "code",
   "execution_count": 9,
   "metadata": {},
   "outputs": [
    {
     "name": "stderr",
     "output_type": "stream",
     "text": [
      "[nltk_data] Downloading package punkt to /home/codio/nltk_data...\n",
      "[nltk_data]   Package punkt is already up-to-date!\n",
      "[nltk_data] Downloading package stopwords to /home/codio/nltk_data...\n",
      "[nltk_data]   Package stopwords is already up-to-date!\n"
     ]
    }
   ],
   "source": [
    "import nltk\n",
    "import string\n",
    "nltk.download('punkt')\n",
    "nltk.download('stopwords')\n",
    "from nltk.tokenize import word_tokenize\n",
    "from nltk.corpus import stopwords\n"
   ]
  },
  {
   "cell_type": "markdown",
   "metadata": {},
   "source": [
    "<h2>Preprocess Data and Tokenize it</h2>\n",
    "While cutting stopwords usually improves model performance, I noticed that the more stopwords I excluded, the worse the model performed, this could be because I'm not working with very long documents (each review is a paragraph each) or because the word vectors/ RNN are able to better use the context of stopwords to make predictions.\n",
    "So i only took out the gendered pronouns"
   ]
  },
  {
   "cell_type": "code",
   "execution_count": null,
   "metadata": {},
   "outputs": [],
   "source": [
    "'''\n",
    "review_lines = list()\n",
    "liness = df['Review'].values.tolist()\n",
    "\n",
    "lines = df['Review']\n",
    "lines = lines.apply(lambda row: gensim.utils.simple_preprocess(row))\n",
    "\n",
    "for line in liness:\n",
    "    tokens = word_tokenize(line)\n",
    "    tokens = [w.lower() for w in tokens]\n",
    "    table = str.maketrans('','',string.punctuation)\n",
    "    stripped = [w.translate(table) for w in tokens]\n",
    "    words = [word for word in stripped if word.isalpha()]\n",
    "    stop_words = set(stopwords.words('english'))\n",
    "    words = [w for w in words if not w in stop_words]\n",
    "    review_lines.append(words)\n",
    "print(review_lines)\n",
    "'''"
   ]
  },
  {
   "cell_type": "code",
   "execution_count": 59,
   "metadata": {},
   "outputs": [
    {
     "name": "stdout",
     "output_type": "stream",
     "text": [
      "how many examples :  1973\n"
     ]
    }
   ],
   "source": [
    "review_lines = []  # Initialize the list to store cleaned lines\n",
    "\n",
    "# Preprocess the lines using simple_preprocess and remove stop words\n",
    "lines = df['Review']\n",
    "stop_words = ['he', 'his', 'him', 'she', 'her', 'hers']\n",
    "\n",
    "for line in lines:\n",
    "    cleaned_line = [word for word in gensim.utils.simple_preprocess(line) if word not in stop_words]\n",
    "    review_lines.append(cleaned_line)\n",
    "\n",
    "print('how many examples : ',len(review_lines))\n"
   ]
  },
  {
   "cell_type": "markdown",
   "metadata": {},
   "source": [
    "<h2>Creating the Word Embeddings Using Word2Vec</h2>"
   ]
  },
  {
   "cell_type": "code",
   "execution_count": 60,
   "metadata": {},
   "outputs": [
    {
     "name": "stdout",
     "output_type": "stream",
     "text": [
      "vocabulary size 20837\n"
     ]
    }
   ],
   "source": [
    "EMBEDDING_DIM = 100\n",
    "model = gensim.models.Word2Vec(sentences = review_lines, vector_size = EMBEDDING_DIM, window = 5, workers = 4, min_count = 1)\n",
    "words = list(model.wv.key_to_index)\n",
    "print('vocabulary size', len(words))"
   ]
  },
  {
   "cell_type": "code",
   "execution_count": 61,
   "metadata": {
    "scrolled": false
   },
   "outputs": [
    {
     "data": {
      "text/plain": [
       "[('premise', 0.995363175868988),\n",
       " ('unfortunately', 0.9951717257499695),\n",
       " ('version', 0.9941315650939941),\n",
       " ('volume', 0.9941017031669617),\n",
       " ('place', 0.9940797090530396),\n",
       " ('reference', 0.9940342307090759),\n",
       " ('text', 0.9939666390419006),\n",
       " ('wonderful', 0.9939011335372925),\n",
       " ('plot', 0.9938108921051025),\n",
       " ('sad', 0.9933741092681885)]"
      ]
     },
     "execution_count": 61,
     "metadata": {},
     "output_type": "execute_result"
    }
   ],
   "source": [
    "model.wv.most_similar('trilogy')"
   ]
  },
  {
   "cell_type": "markdown",
   "metadata": {},
   "source": [
    "\n",
    "Professor Osuno asked me to create a wordcloud for the most frequent words \n",
    "When I tried the following code I got this error:: ValueError: Only supported for TrueType fonts\n",
    "\n",
    "top25 = model.wv.index_to_key[:25] \n",
    "from wordcloud import WordCloud\n",
    "text = ' '.join(list(top25))\n",
    "\n",
    "wordcloud = WordCloud(width=800, height=800, background_color='white', min_font_size=10).generate(text)\n",
    "\n",
    "\n",
    "plt.figure(figsize=(8, 8), facecolor=None)\n",
    "plt.imshow(wordcloud)\n",
    "plt.axis(\"off\")\n",
    "plt.tight_layout(pad=0)\n",
    "\n",
    "I tried specifying the font_path hyperparameter to use a font already installed in this enviornment but I was gettign the same errors. Additinoally I tried updating the wordcloud package and got this error:: Defaulting to user installation because normal site-packages is not writeable Requirement already \n",
    "\n",
    "I believe the Codio Jupyter Notebook enviornment is contributing to these errors and the word cloud would otherwise work on another IDE"
   ]
  },
  {
   "cell_type": "markdown",
   "metadata": {},
   "source": [
    "<h2>Creating a Dictionary With Word:Vector Pairs</h2>"
   ]
  },
  {
   "cell_type": "code",
   "execution_count": 62,
   "metadata": {},
   "outputs": [],
   "source": [
    "#load the wordembeddings as a dict of words to vectors\n",
    "filename = 'book_review_word2vec.txt'\n",
    "model.wv.save_word2vec_format(filename, binary = False)\n",
    "embeddings_dictionary = {}\n",
    "f = open(os.path.join('', 'book_review_word2vec.txt'), encoding = 'utf-8')\n",
    "#so one line of f is the word corresponding with a long integer vector\n",
    "for line in f:\n",
    "    values = line.split()\n",
    "    word = values[0]\n",
    "    coefs = np.asarray(values[1:])\n",
    "    embeddings_dictionary[word] = coefs\n",
    "f.close()"
   ]
  },
  {
   "cell_type": "markdown",
   "metadata": {},
   "source": [
    "You can't just put the word vectors straight into a neural network \n",
    "so they need to be tokenized and put into an embedding layer rather than as input for like a normal dense layer"
   ]
  },
  {
   "cell_type": "code",
   "execution_count": 63,
   "metadata": {},
   "outputs": [],
   "source": [
    "#convert word embedding into a tokenized vector. maps to the index of a single vector in the embeddings layer\n",
    "from tensorflow.keras.preprocessing.text import Tokenizer\n",
    "from tensorflow.keras.preprocessing.sequence import pad_sequences\n",
    "tokenizer_obj = Tokenizer()\n",
    "tokenizer_obj.fit_on_texts(review_lines)\n",
    "sequences = tokenizer_obj.texts_to_sequences(review_lines)\n",
    "\n",
    "#this is to standardize the length of the vectors which i guess are now sequences \n",
    "#using sequence paddings\n",
    "\n",
    "word_index = tokenizer_obj.word_index\n",
    "#word index is like a dictionary of a word and a number 1-20843\n",
    "review_pad = pad_sequences(sequences, maxlen = 100)\n",
    "#so in each index of review pad is a bunch of numbers based on the embeddings\n",
    "# theres always 100 numbers at each index because thats what maxlen is\n",
    "#if vector is <100 then add 0s\n",
    "is_Positive = df['is_Positive'].values\n",
    "#max_len is a tunable hyperparameter\n",
    "\n"
   ]
  },
  {
   "cell_type": "code",
   "execution_count": null,
   "metadata": {},
   "outputs": [],
   "source": [
    "#so now were mapping the embeddings from word2vec to the tokenizer vocab to make a matrix\n",
    "num_words = len(word_index)+1\n",
    "embedding_matrix = np.zeros((num_words, EMBEDDING_DIM))\n",
    "for word, i in word_index.items():\n",
    "    if i > num_words:\n",
    "        continue\n",
    "    embedding_vector = embeddings_dictionary.get(word)\n",
    "    if embedding_vector is not None:\n",
    "        embedding_matrix[i] = embedding_vector\n",
    "        \n",
    "#embedding_matrix is the final var that you input into the embedding layer in final model"
   ]
  },
  {
   "cell_type": "markdown",
   "metadata": {},
   "source": [
    "## Part 3: Implement Your Project Plan\n",
    "\n",
    "<b>Task:</b> Use the rest of this notebook to carry out your project plan. You will:\n",
    "\n",
    "1. Prepare your data for your model and create features and a label.\n",
    "2. Fit your model to the training data and evaluate your model.\n",
    "3. Improve your model by performing model selection and/or feature selection techniques to find best model for your problem.\n",
    "\n",
    "\n",
    "Add code cells below and populate the notebook with commentary, code, analyses, results, and figures as you see fit."
   ]
  },
  {
   "cell_type": "markdown",
   "metadata": {},
   "source": [
    "Now Im going to create the neural net starting with an embedding layer that will take in our sequences/embeddings/dictionary/matrices"
   ]
  },
  {
   "cell_type": "code",
   "execution_count": 65,
   "metadata": {},
   "outputs": [],
   "source": [
    "from keras.models import Sequential\n",
    "from keras.layers import Dense, Embedding, LSTM, GRU \n",
    "#those are diff types of rnn layers\n",
    "from keras.layers.embeddings import Embedding\n",
    "from keras.initializers import Constant\n",
    "from tensorflow.keras.metrics import AUC, Precision"
   ]
  },
  {
   "cell_type": "markdown",
   "metadata": {},
   "source": [
    "<h2>What are the RNN Layers?</h2>\n",
    "<ul>\n",
    "    <li>Embedding - maps input information from a high-dimensional to a lower-dimensional space</li>\n",
    "<li>LSTM - Solves the vanishing gradient problem (gradient becomes too small to update weights) cell remembers values over arbitrary time intervals and the three gates regulate the flow of information into and out of the cell. theres a cell, Forget gate, input and output gates</li>\n",
    "<li>GRU - Like LSTM but fewer parameters and lacks an output gate. Reset and update gates no long range memory cell</li>\n",
    "</ul>\n",
    "\n",
    "Now I'm going to do a train/val/split where validation set is 20% of the total data\n",
    "basically u take the review_pad sequence, randomize all the indices and the data up"
   ]
  },
  {
   "cell_type": "code",
   "execution_count": 66,
   "metadata": {},
   "outputs": [],
   "source": [
    "indices = np.arange(review_pad.shape[0])\n",
    "np.random.shuffle(indices)\n",
    "review_pad = review_pad[indices]\n",
    "is_Positive = is_Positive[indices]\n",
    "\n",
    "\n",
    "#so idk how to get 3 splits with train_test_split so i did two test train splits on top of each other\n",
    "\n",
    "X, X_test, y, y_test = train_test_split(review_pad,is_Positive,test_size=0.2,train_size=0.8)\n",
    "X_train, X_val, y_train, y_val = train_test_split(X,y,test_size = 0.25,train_size =0.75)"
   ]
  },
  {
   "cell_type": "markdown",
   "metadata": {},
   "source": [
    "<h2> Performing A Grid Search For Best Params </h2>\n",
    "I'm trying to optimize the number of units for each layer as well as the optimizer function"
   ]
  },
  {
   "cell_type": "code",
   "execution_count": 84,
   "metadata": {},
   "outputs": [],
   "source": [
    "from keras.wrappers.scikit_learn import KerasClassifier\n",
    "def build_clf(unit1, unit2, losses):\n",
    "  # creating the layers of the RNN\n",
    "    model = Sequential()\n",
    "    embedding_layer = Embedding(num_words, EMBEDDING_DIM, \n",
    "                           embeddings_initializer = Constant(embedding_matrix),\n",
    "                           input_length = 100,\n",
    "                           trainable = False)\n",
    "    model.add(embedding_layer)\n",
    "    model.add(LSTM(units=unit1, dropout = .20, recurrent_dropout = .20, return_sequences = True))\n",
    "    model.add(LSTM(units=32, dropout = .20, recurrent_dropout = .20, return_sequences = True))\n",
    "    model.add(LSTM(units=unit2, dropout = .20, recurrent_dropout = .20))\n",
    "    model.add(Dense(1, activation = 'sigmoid'))\n",
    "\n",
    "    model.compile(loss=losses, optimizer='adam', metrics=[AUC()])\n",
    "    return model"
   ]
  },
  {
   "cell_type": "code",
   "execution_count": 85,
   "metadata": {},
   "outputs": [],
   "source": [
    "keras_model = KerasClassifier(build_fn=build_clf)"
   ]
  },
  {
   "cell_type": "code",
   "execution_count": 86,
   "metadata": {},
   "outputs": [
    {
     "name": "stdout",
     "output_type": "stream",
     "text": [
      "beginning grid search\n",
      "25/25 [==============================] - 23s 229ms/step - loss: 0.6972 - auc_206: 0.4848\n",
      "25/25 [==============================] - 11s 198ms/step - loss: 0.6957 - auc_207: 0.5119\n",
      "25/25 [==============================] - 13s 200ms/step - loss: 0.6977 - auc_208: 0.5134\n",
      "25/25 [==============================] - 10s 187ms/step - loss: 0.6938 - auc_209: 0.5162\n",
      "25/25 [==============================] - 10s 169ms/step - loss: 0.6968 - auc_210: 0.4898\n",
      "25/25 [==============================] - 11s 191ms/step - loss: 0.6971 - auc_211: 0.5117\n",
      "25/25 [==============================] - 12s 212ms/step - loss: 0.6974 - auc_212: 0.5197\n",
      "25/25 [==============================] - 11s 229ms/step - loss: 0.6994 - auc_213: 0.4883\n",
      "25/25 [==============================] - 11s 197ms/step - loss: 0.6979 - auc_214: 0.5014\n",
      "25/25 [==============================] - 10s 175ms/step - loss: 0.6960 - auc_215: 0.5059\n",
      "25/25 [==============================] - 10s 176ms/step - loss: 0.7024 - auc_216: 0.4916\n",
      "25/25 [==============================] - 10s 175ms/step - loss: 0.7044 - auc_217: 0.4838\n",
      "25/25 [==============================] - 12s 209ms/step - loss: 0.7010 - auc_218: 0.4928\n",
      "25/25 [==============================] - 11s 212ms/step - loss: 0.7015 - auc_219: 0.4749\n",
      "25/25 [==============================] - 12s 274ms/step - loss: 0.7067 - auc_220: 0.4853\n",
      "25/25 [==============================] - 11s 216ms/step - loss: 0.7024 - auc_221: 0.5238\n",
      "25/25 [==============================] - 13s 242ms/step - loss: 0.6998 - auc_222: 0.4823\n",
      "25/25 [==============================] - 14s 268ms/step - loss: 0.6935 - auc_223: 0.5116\n",
      "25/25 [==============================] - 13s 242ms/step - loss: 0.7049 - auc_224: 0.4810\n",
      "25/25 [==============================] - 13s 280ms/step - loss: 0.7025 - auc_225: 0.4980\n",
      "25/25 [==============================] - 14s 288ms/step - loss: 0.7002 - auc_226: 0.5352\n",
      "25/25 [==============================] - 12s 251ms/step - loss: 0.7033 - auc_227: 0.5031\n",
      "25/25 [==============================] - 12s 244ms/step - loss: 0.6993 - auc_228: 0.5463\n",
      "25/25 [==============================] - 12s 250ms/step - loss: 0.7079 - auc_229: 0.4815\n",
      "25/25 [==============================] - 13s 268ms/step - loss: 0.7052 - auc_230: 0.4885\n",
      "25/25 [==============================] - 13s 276ms/step - loss: 0.7065 - auc_231: 0.4968\n",
      "25/25 [==============================] - 14s 288ms/step - loss: 0.6964 - auc_232: 0.5200\n"
     ]
    },
    {
     "name": "stderr",
     "output_type": "stream",
     "text": [
      "/usr/local/lib/python3.6/dist-packages/sklearn/model_selection/_validation.py:536: FitFailedWarning: Estimator fit failed. The score on this train-test partition for these parameters will be set to nan. Details: \n",
      "ValueError: in user code:\n",
      "\n",
      "    /usr/local/lib/python3.6/dist-packages/keras/engine/training.py:853 train_function  *\n",
      "        return step_function(self, iterator)\n",
      "    /usr/local/lib/python3.6/dist-packages/keras/engine/training.py:842 step_function  **\n",
      "        outputs = model.distribute_strategy.run(run_step, args=(data,))\n",
      "    /usr/local/lib/python3.6/dist-packages/tensorflow/python/distribute/distribute_lib.py:1286 run\n",
      "        return self._extended.call_for_each_replica(fn, args=args, kwargs=kwargs)\n",
      "    /usr/local/lib/python3.6/dist-packages/tensorflow/python/distribute/distribute_lib.py:2849 call_for_each_replica\n",
      "        return self._call_for_each_replica(fn, args, kwargs)\n",
      "    /usr/local/lib/python3.6/dist-packages/tensorflow/python/distribute/distribute_lib.py:3632 _call_for_each_replica\n",
      "        return fn(*args, **kwargs)\n",
      "    /usr/local/lib/python3.6/dist-packages/keras/engine/training.py:835 run_step  **\n",
      "        outputs = model.train_step(data)\n",
      "    /usr/local/lib/python3.6/dist-packages/keras/engine/training.py:789 train_step\n",
      "        y, y_pred, sample_weight, regularization_losses=self.losses)\n",
      "    /usr/local/lib/python3.6/dist-packages/keras/engine/compile_utils.py:184 __call__\n",
      "        self.build(y_pred)\n",
      "    /usr/local/lib/python3.6/dist-packages/keras/engine/compile_utils.py:133 build\n",
      "        self._losses = tf.nest.map_structure(self._get_loss_object, self._losses)\n",
      "    /usr/local/lib/python3.6/dist-packages/tensorflow/python/util/nest.py:869 map_structure\n",
      "        structure[0], [func(*x) for x in entries],\n",
      "    /usr/local/lib/python3.6/dist-packages/tensorflow/python/util/nest.py:869 <listcomp>\n",
      "        structure[0], [func(*x) for x in entries],\n",
      "    /usr/local/lib/python3.6/dist-packages/keras/engine/compile_utils.py:273 _get_loss_object\n",
      "        loss = losses_mod.get(loss)\n",
      "    /usr/local/lib/python3.6/dist-packages/keras/losses.py:2136 get\n",
      "        return deserialize(identifier)\n",
      "    /usr/local/lib/python3.6/dist-packages/keras/losses.py:2095 deserialize\n",
      "        printable_module_name='loss function')\n",
      "    /usr/local/lib/python3.6/dist-packages/keras/utils/generic_utils.py:709 deserialize_keras_object\n",
      "        .format(printable_module_name, object_name))\n",
      "\n",
      "    ValueError: Unknown loss function: kullback_leibler. Please ensure this object is passed to the `custom_objects` argument. See https://www.tensorflow.org/guide/keras/save_and_serialize#registering_the_custom_object for details.\n",
      "\n",
      "\n",
      "  FitFailedWarning)\n"
     ]
    },
    {
     "name": "stdout",
     "output_type": "stream",
     "text": [
      "37/37 [==============================] - 14s 180ms/step - loss: 0.6955 - auc_260: 0.5014\n",
      "Done\n",
      "best parameters: {'losses': 'binary_crossentropy', 'unit1': 32, 'unit2': 32}\n"
     ]
    }
   ],
   "source": [
    "from sklearn.metrics import roc_auc_score, make_scorer\n",
    "params = {\n",
    "    \"unit1\": [16, 32, 64, 128],\n",
    "    \"unit2\": [32, 64, 128, 160],\n",
    "}\n",
    "scoring = make_scorer(roc_auc_score)\n",
    "\n",
    "# Perform grid search with AUC as the scoring metric\n",
    "print(\"beginning grid search\")\n",
    "grid = GridSearchCV(keras_model, params, scoring=scoring, cv=3)\n",
    "grid_search = grid.fit(X_train, y_train)\n",
    "print('Done')\n",
    "print(\"best parameters:\", grid_search.best_params_)"
   ]
  },
  {
   "cell_type": "markdown",
   "metadata": {},
   "source": [
    "<h1> Creating the Final Model </h1>\n",
    "<h3>Why I chose the Layer Type </h3>\n",
    "The LSTM is more complex than GRU because it has more gates and a memory cell that can better contextualize words in a document in long range dependencies\n",
    "<h3>Why I Chose the AUC Metric</h3>\n",
    "Because this model can be used for a recommender system, its worse to have a false positive than a false negative because you dont want to recommend a book thats disliked by readers. Because of that I ruled out recall. AUC is the amount of true positives over false positives, AUC also takes into account the probability that each prediction will be right so I chose AUC as my metric seems to be better for classifying text data than precision is."
   ]
  },
  {
   "cell_type": "code",
   "execution_count": 97,
   "metadata": {},
   "outputs": [
    {
     "name": "stdout",
     "output_type": "stream",
     "text": [
      "Model: \"sequential_267\"\n",
      "_________________________________________________________________\n",
      "Layer (type)                 Output Shape              Param #   \n",
      "=================================================================\n",
      "embedding_267 (Embedding)    (None, 100, 100)          2083800   \n",
      "_________________________________________________________________\n",
      "lstm_533 (LSTM)              (None, 100, 32)           17024     \n",
      "_________________________________________________________________\n",
      "lstm_534 (LSTM)              (None, 128)               82432     \n",
      "_________________________________________________________________\n",
      "dense_267 (Dense)            (None, 1)                 129       \n",
      "=================================================================\n",
      "Total params: 2,183,385\n",
      "Trainable params: 99,585\n",
      "Non-trainable params: 2,083,800\n",
      "_________________________________________________________________\n"
     ]
    }
   ],
   "source": [
    "model = Sequential()\n",
    "embedding_layer = Embedding(num_words, EMBEDDING_DIM, \n",
    "                           embeddings_initializer = Constant(embedding_matrix),\n",
    "                           input_length = 100,\n",
    "                           trainable = False)\n",
    "model.add(embedding_layer)\n",
    "model.add(LSTM(units=32, dropout = .20, recurrent_dropout = .20, return_sequences = True))\n",
    "model.add(LSTM(units=128, dropout = .20, recurrent_dropout = .20))\n",
    "model.add(Dense(1, activation = 'sigmoid'))\n",
    "\n",
    "model.compile(loss='binary_crossentropy', optimizer='adam', metrics=[AUC()])\n",
    "model.summary()"
   ]
  },
  {
   "cell_type": "markdown",
   "metadata": {},
   "source": [
    "Theres a lot less trainable params than total params because I created  the word embeddings dictionary\n",
    "myself so in theory this will make it all train faster.\n",
    "\n"
   ]
  },
  {
   "cell_type": "code",
   "execution_count": 98,
   "metadata": {
    "scrolled": true
   },
   "outputs": [
    {
     "name": "stdout",
     "output_type": "stream",
     "text": [
      "begin training process\n",
      "Epoch 1/50\n",
      "10/10 - 20s - loss: 0.6937 - auc_267: 0.5118 - val_loss: 0.6903 - val_auc_267: 0.5553\n",
      "Epoch 2/50\n",
      "10/10 - 3s - loss: 0.6935 - auc_267: 0.5293 - val_loss: 0.6954 - val_auc_267: 0.5688\n",
      "Epoch 3/50\n",
      "10/10 - 3s - loss: 0.6918 - auc_267: 0.5344 - val_loss: 0.6864 - val_auc_267: 0.5653\n",
      "Epoch 4/50\n",
      "10/10 - 3s - loss: 0.6873 - auc_267: 0.5662 - val_loss: 0.6853 - val_auc_267: 0.5745\n",
      "Epoch 5/50\n",
      "10/10 - 3s - loss: 0.6868 - auc_267: 0.5660 - val_loss: 0.6830 - val_auc_267: 0.5795\n",
      "Epoch 6/50\n",
      "10/10 - 3s - loss: 0.6824 - auc_267: 0.5850 - val_loss: 0.6779 - val_auc_267: 0.5948\n",
      "Epoch 7/50\n",
      "10/10 - 3s - loss: 0.6806 - auc_267: 0.5907 - val_loss: 0.6816 - val_auc_267: 0.6023\n",
      "Epoch 8/50\n",
      "10/10 - 3s - loss: 0.6782 - auc_267: 0.5960 - val_loss: 0.6616 - val_auc_267: 0.6445\n",
      "Epoch 9/50\n",
      "10/10 - 4s - loss: 0.6705 - auc_267: 0.6221 - val_loss: 0.6604 - val_auc_267: 0.6512\n",
      "Epoch 10/50\n",
      "10/10 - 5s - loss: 0.6812 - auc_267: 0.5850 - val_loss: 0.6771 - val_auc_267: 0.6253\n",
      "Epoch 11/50\n",
      "10/10 - 4s - loss: 0.6808 - auc_267: 0.5919 - val_loss: 0.6698 - val_auc_267: 0.6459\n",
      "Epoch 12/50\n",
      "10/10 - 3s - loss: 0.6709 - auc_267: 0.6171 - val_loss: 0.6579 - val_auc_267: 0.6610\n",
      "Epoch 13/50\n",
      "10/10 - 3s - loss: 0.6671 - auc_267: 0.6303 - val_loss: 0.6447 - val_auc_267: 0.6795\n",
      "Epoch 14/50\n",
      "10/10 - 4s - loss: 0.6623 - auc_267: 0.6438 - val_loss: 0.6571 - val_auc_267: 0.6718\n",
      "Epoch 15/50\n",
      "10/10 - 4s - loss: 0.6797 - auc_267: 0.6037 - val_loss: 0.6622 - val_auc_267: 0.6626\n",
      "Epoch 16/50\n",
      "10/10 - 4s - loss: 0.6802 - auc_267: 0.5955 - val_loss: 0.6562 - val_auc_267: 0.6667\n",
      "Epoch 17/50\n",
      "10/10 - 3s - loss: 0.6746 - auc_267: 0.6428 - val_loss: 0.6693 - val_auc_267: 0.6408\n",
      "Epoch 18/50\n",
      "10/10 - 3s - loss: 0.6742 - auc_267: 0.6264 - val_loss: 0.6546 - val_auc_267: 0.6715\n",
      "Epoch 19/50\n",
      "10/10 - 4s - loss: 0.6659 - auc_267: 0.6388 - val_loss: 0.6642 - val_auc_267: 0.6734\n",
      "Epoch 20/50\n",
      "10/10 - 4s - loss: 0.6657 - auc_267: 0.6387 - val_loss: 0.6556 - val_auc_267: 0.6638\n",
      "Epoch 21/50\n",
      "10/10 - 3s - loss: 0.6635 - auc_267: 0.6462 - val_loss: 0.6599 - val_auc_267: 0.6537\n",
      "Epoch 22/50\n",
      "10/10 - 3s - loss: 0.6615 - auc_267: 0.6379 - val_loss: 0.6622 - val_auc_267: 0.6832\n",
      "Epoch 23/50\n",
      "10/10 - 3s - loss: 0.6547 - auc_267: 0.6576 - val_loss: 0.6736 - val_auc_267: 0.6926\n",
      "Epoch 24/50\n",
      "10/10 - 3s - loss: 0.6634 - auc_267: 0.6416 - val_loss: 0.6529 - val_auc_267: 0.6966\n",
      "Epoch 25/50\n",
      "10/10 - 3s - loss: 0.6597 - auc_267: 0.6570 - val_loss: 0.6600 - val_auc_267: 0.6784\n",
      "Epoch 26/50\n",
      "10/10 - 3s - loss: 0.6638 - auc_267: 0.6352 - val_loss: 0.6472 - val_auc_267: 0.6949\n",
      "Epoch 27/50\n",
      "10/10 - 3s - loss: 0.6415 - auc_267: 0.6796 - val_loss: 0.6348 - val_auc_267: 0.6905\n",
      "Epoch 28/50\n",
      "10/10 - 3s - loss: 0.6526 - auc_267: 0.6650 - val_loss: 0.6565 - val_auc_267: 0.6978\n",
      "Epoch 29/50\n",
      "10/10 - 3s - loss: 0.6599 - auc_267: 0.6541 - val_loss: 0.6283 - val_auc_267: 0.7030\n",
      "Epoch 30/50\n",
      "10/10 - 3s - loss: 0.6405 - auc_267: 0.6851 - val_loss: 0.6158 - val_auc_267: 0.7204\n",
      "Epoch 31/50\n",
      "10/10 - 4s - loss: 0.6368 - auc_267: 0.6882 - val_loss: 0.6338 - val_auc_267: 0.7222\n",
      "Epoch 32/50\n",
      "10/10 - 4s - loss: 0.6490 - auc_267: 0.6693 - val_loss: 0.6331 - val_auc_267: 0.7134\n",
      "Epoch 33/50\n",
      "10/10 - 5s - loss: 0.6487 - auc_267: 0.6689 - val_loss: 0.6207 - val_auc_267: 0.7187\n",
      "Epoch 34/50\n",
      "10/10 - 5s - loss: 0.6399 - auc_267: 0.6943 - val_loss: 0.6306 - val_auc_267: 0.7135\n",
      "Epoch 35/50\n",
      "10/10 - 8s - loss: 0.6359 - auc_267: 0.6906 - val_loss: 0.6266 - val_auc_267: 0.7145\n",
      "Epoch 36/50\n",
      "10/10 - 5s - loss: 0.6403 - auc_267: 0.6811 - val_loss: 0.6570 - val_auc_267: 0.7162\n",
      "Epoch 37/50\n",
      "10/10 - 3s - loss: 0.6387 - auc_267: 0.6854 - val_loss: 0.6221 - val_auc_267: 0.7120\n",
      "Epoch 38/50\n",
      "10/10 - 3s - loss: 0.6396 - auc_267: 0.6865 - val_loss: 0.6310 - val_auc_267: 0.7248\n",
      "Epoch 39/50\n",
      "10/10 - 3s - loss: 0.6302 - auc_267: 0.6974 - val_loss: 0.6120 - val_auc_267: 0.7244\n",
      "Epoch 40/50\n",
      "10/10 - 3s - loss: 0.6235 - auc_267: 0.7078 - val_loss: 0.6226 - val_auc_267: 0.7361\n",
      "Epoch 41/50\n",
      "10/10 - 3s - loss: 0.6224 - auc_267: 0.7124 - val_loss: 0.6121 - val_auc_267: 0.7381\n",
      "Epoch 42/50\n",
      "10/10 - 3s - loss: 0.6327 - auc_267: 0.6939 - val_loss: 0.6130 - val_auc_267: 0.7348\n",
      "Epoch 43/50\n",
      "10/10 - 3s - loss: 0.6113 - auc_267: 0.7258 - val_loss: 0.6160 - val_auc_267: 0.7314\n",
      "Epoch 44/50\n",
      "10/10 - 3s - loss: 0.6419 - auc_267: 0.6803 - val_loss: 0.6320 - val_auc_267: 0.7272\n",
      "Epoch 45/50\n",
      "10/10 - 3s - loss: 0.6274 - auc_267: 0.6999 - val_loss: 0.6273 - val_auc_267: 0.7153\n",
      "Epoch 46/50\n",
      "10/10 - 3s - loss: 0.6212 - auc_267: 0.7135 - val_loss: 0.5992 - val_auc_267: 0.7399\n",
      "Epoch 47/50\n",
      "10/10 - 3s - loss: 0.6133 - auc_267: 0.7250 - val_loss: 0.6041 - val_auc_267: 0.7426\n",
      "Epoch 48/50\n",
      "10/10 - 3s - loss: 0.6175 - auc_267: 0.7160 - val_loss: 0.6117 - val_auc_267: 0.7416\n",
      "Epoch 49/50\n",
      "10/10 - 3s - loss: 0.6060 - auc_267: 0.7354 - val_loss: 0.5968 - val_auc_267: 0.7551\n",
      "Epoch 50/50\n",
      "10/10 - 5s - loss: 0.6044 - auc_267: 0.7302 - val_loss: 0.6062 - val_auc_267: 0.7273\n",
      "training process done!!\n"
     ]
    }
   ],
   "source": [
    "print('begin training process')\n",
    "model.fit(X_train, y_train, batch_size = 128, epochs = 49, validation_data=(X_val, y_val), \n",
    "         verbose = 2)\n",
    "print('training process done!!')"
   ]
  },
  {
   "cell_type": "code",
   "execution_count": 103,
   "metadata": {},
   "outputs": [
    {
     "name": "stdout",
     "output_type": "stream",
     "text": [
      "Epoch 1/50\n",
      "10/10 [==============================] - 4s 350ms/step - loss: 0.6023 - auc_267: 0.7377 - val_loss: 0.6001 - val_auc_267: 0.7385\n",
      "Epoch 2/50\n",
      "10/10 [==============================] - 4s 421ms/step - loss: 0.6126 - auc_267: 0.7260 - val_loss: 0.6192 - val_auc_267: 0.7138\n",
      "Epoch 3/50\n",
      "10/10 [==============================] - 3s 345ms/step - loss: 0.6232 - auc_267: 0.7106 - val_loss: 0.5946 - val_auc_267: 0.7547\n",
      "Epoch 4/50\n",
      "10/10 [==============================] - 4s 386ms/step - loss: 0.6253 - auc_267: 0.7049 - val_loss: 0.6027 - val_auc_267: 0.7649\n",
      "Epoch 5/50\n",
      "10/10 [==============================] - 4s 375ms/step - loss: 0.6174 - auc_267: 0.7240 - val_loss: 0.6271 - val_auc_267: 0.7269\n",
      "Epoch 6/50\n",
      "10/10 [==============================] - 4s 426ms/step - loss: 0.5956 - auc_267: 0.7453 - val_loss: 0.6342 - val_auc_267: 0.7342\n",
      "Epoch 7/50\n",
      "10/10 [==============================] - 4s 434ms/step - loss: 0.6054 - auc_267: 0.7326 - val_loss: 0.6138 - val_auc_267: 0.7369\n",
      "Epoch 8/50\n",
      "10/10 [==============================] - 4s 393ms/step - loss: 0.5908 - auc_267: 0.7552 - val_loss: 0.6102 - val_auc_267: 0.7316\n",
      "Epoch 9/50\n",
      "10/10 [==============================] - 4s 368ms/step - loss: 0.5992 - auc_267: 0.7420 - val_loss: 0.6183 - val_auc_267: 0.7481\n",
      "Epoch 10/50\n",
      "10/10 [==============================] - 4s 387ms/step - loss: 0.6047 - auc_267: 0.7342 - val_loss: 0.5910 - val_auc_267: 0.7599\n",
      "Epoch 11/50\n",
      "10/10 [==============================] - 5s 462ms/step - loss: 0.5890 - auc_267: 0.7554 - val_loss: 0.6036 - val_auc_267: 0.7374\n",
      "Epoch 12/50\n",
      "10/10 [==============================] - 4s 394ms/step - loss: 0.5881 - auc_267: 0.7528 - val_loss: 0.6087 - val_auc_267: 0.7371\n",
      "Epoch 13/50\n",
      "10/10 [==============================] - 4s 427ms/step - loss: 0.5966 - auc_267: 0.7421 - val_loss: 0.5889 - val_auc_267: 0.7642\n",
      "Epoch 14/50\n",
      "10/10 [==============================] - 4s 430ms/step - loss: 0.5883 - auc_267: 0.7517 - val_loss: 0.6135 - val_auc_267: 0.7309\n",
      "Epoch 15/50\n",
      "10/10 [==============================] - 5s 471ms/step - loss: 0.6103 - auc_267: 0.7293 - val_loss: 0.6007 - val_auc_267: 0.7543\n",
      "Epoch 16/50\n",
      "10/10 [==============================] - 4s 406ms/step - loss: 0.5785 - auc_267: 0.7637 - val_loss: 0.5832 - val_auc_267: 0.7688\n",
      "Epoch 17/50\n",
      "10/10 [==============================] - 4s 428ms/step - loss: 0.5692 - auc_267: 0.7701 - val_loss: 0.6147 - val_auc_267: 0.7251\n",
      "Epoch 18/50\n",
      "10/10 [==============================] - 4s 394ms/step - loss: 0.5661 - auc_267: 0.7793 - val_loss: 0.6174 - val_auc_267: 0.7429\n",
      "Epoch 19/50\n",
      "10/10 [==============================] - 4s 411ms/step - loss: 0.5699 - auc_267: 0.7747 - val_loss: 0.6040 - val_auc_267: 0.7424\n",
      "Epoch 20/50\n",
      "10/10 [==============================] - 4s 397ms/step - loss: 0.5486 - auc_267: 0.7936 - val_loss: 0.6105 - val_auc_267: 0.7463\n",
      "Epoch 21/50\n",
      "10/10 [==============================] - 4s 417ms/step - loss: 0.5588 - auc_267: 0.7853 - val_loss: 0.6159 - val_auc_267: 0.7422\n",
      "Epoch 22/50\n",
      "10/10 [==============================] - 4s 358ms/step - loss: 0.5673 - auc_267: 0.7745 - val_loss: 0.6106 - val_auc_267: 0.7372\n",
      "Epoch 23/50\n",
      "10/10 [==============================] - 4s 402ms/step - loss: 0.5556 - auc_267: 0.7880 - val_loss: 0.6122 - val_auc_267: 0.7317\n",
      "Epoch 24/50\n",
      "10/10 [==============================] - 4s 391ms/step - loss: 0.5309 - auc_267: 0.8114 - val_loss: 0.6341 - val_auc_267: 0.7221\n",
      "Epoch 25/50\n",
      "10/10 [==============================] - 4s 356ms/step - loss: 0.5487 - auc_267: 0.7935 - val_loss: 0.6120 - val_auc_267: 0.7344\n",
      "Epoch 26/50\n",
      "10/10 [==============================] - 4s 401ms/step - loss: 0.5396 - auc_267: 0.8049 - val_loss: 0.6093 - val_auc_267: 0.7430\n",
      "Epoch 27/50\n",
      "10/10 [==============================] - 5s 516ms/step - loss: 0.5414 - auc_267: 0.7988 - val_loss: 0.6471 - val_auc_267: 0.7186\n",
      "Epoch 28/50\n",
      "10/10 [==============================] - 4s 450ms/step - loss: 0.5612 - auc_267: 0.7844 - val_loss: 0.6304 - val_auc_267: 0.7164\n",
      "Epoch 29/50\n",
      "10/10 [==============================] - 5s 516ms/step - loss: 0.5701 - auc_267: 0.7736 - val_loss: 0.6072 - val_auc_267: 0.7324\n",
      "Epoch 30/50\n",
      "10/10 [==============================] - 4s 450ms/step - loss: 0.5238 - auc_267: 0.8159 - val_loss: 0.6415 - val_auc_267: 0.7195\n",
      "Epoch 31/50\n",
      "10/10 [==============================] - 4s 357ms/step - loss: 0.5379 - auc_267: 0.8018 - val_loss: 0.6155 - val_auc_267: 0.7359\n",
      "Epoch 32/50\n",
      "10/10 [==============================] - 3s 345ms/step - loss: 0.5233 - auc_267: 0.8214 - val_loss: 0.6347 - val_auc_267: 0.7203\n",
      "Epoch 33/50\n",
      "10/10 [==============================] - 3s 345ms/step - loss: 0.5212 - auc_267: 0.8219 - val_loss: 0.6282 - val_auc_267: 0.7309\n",
      "Epoch 34/50\n",
      "10/10 [==============================] - 3s 341ms/step - loss: 0.5292 - auc_267: 0.8111 - val_loss: 0.6546 - val_auc_267: 0.7146\n",
      "Epoch 35/50\n",
      "10/10 [==============================] - 4s 353ms/step - loss: 0.5219 - auc_267: 0.8167 - val_loss: 0.6578 - val_auc_267: 0.7141\n",
      "Epoch 36/50\n",
      "10/10 [==============================] - 4s 393ms/step - loss: 0.5264 - auc_267: 0.8164 - val_loss: 0.6266 - val_auc_267: 0.7267\n",
      "Epoch 37/50\n",
      "10/10 [==============================] - 4s 362ms/step - loss: 0.5149 - auc_267: 0.8250 - val_loss: 0.6089 - val_auc_267: 0.7468\n",
      "Epoch 38/50\n",
      "10/10 [==============================] - 4s 380ms/step - loss: 0.4926 - auc_267: 0.8416 - val_loss: 0.6307 - val_auc_267: 0.7347\n",
      "Epoch 39/50\n",
      "10/10 [==============================] - 4s 431ms/step - loss: 0.5119 - auc_267: 0.8272 - val_loss: 0.6324 - val_auc_267: 0.7389\n",
      "Epoch 40/50\n",
      "10/10 [==============================] - 3s 347ms/step - loss: 0.5108 - auc_267: 0.8255 - val_loss: 0.6424 - val_auc_267: 0.7094\n",
      "Epoch 41/50\n",
      "10/10 [==============================] - 3s 334ms/step - loss: 0.4752 - auc_267: 0.8549 - val_loss: 0.6550 - val_auc_267: 0.7313\n",
      "Epoch 42/50\n",
      "10/10 [==============================] - 3s 339ms/step - loss: 0.4662 - auc_267: 0.8614 - val_loss: 0.6732 - val_auc_267: 0.7032\n",
      "Epoch 43/50\n",
      "10/10 [==============================] - 3s 335ms/step - loss: 0.4721 - auc_267: 0.8574 - val_loss: 0.6503 - val_auc_267: 0.7335\n",
      "Epoch 44/50\n",
      "10/10 [==============================] - 3s 343ms/step - loss: 0.4512 - auc_267: 0.8717 - val_loss: 0.6688 - val_auc_267: 0.7076\n",
      "Epoch 45/50\n",
      "10/10 [==============================] - 3s 309ms/step - loss: 0.4704 - auc_267: 0.8583 - val_loss: 0.6534 - val_auc_267: 0.7258\n",
      "Epoch 46/50\n",
      "10/10 [==============================] - 3s 312ms/step - loss: 0.4540 - auc_267: 0.8673 - val_loss: 0.6769 - val_auc_267: 0.7130\n",
      "Epoch 47/50\n",
      "10/10 [==============================] - 3s 319ms/step - loss: 0.4371 - auc_267: 0.8790 - val_loss: 0.6639 - val_auc_267: 0.7248\n",
      "Epoch 48/50\n",
      "10/10 [==============================] - 4s 358ms/step - loss: 0.4310 - auc_267: 0.8805 - val_loss: 0.6815 - val_auc_267: 0.7115\n",
      "Epoch 49/50\n",
      "10/10 [==============================] - 3s 336ms/step - loss: 0.4292 - auc_267: 0.8854 - val_loss: 0.6973 - val_auc_267: 0.7172\n",
      "Epoch 50/50\n",
      "10/10 [==============================] - 3s 314ms/step - loss: 0.4243 - auc_267: 0.8877 - val_loss: 0.7234 - val_auc_267: 0.7067\n"
     ]
    },
    {
     "data": {
      "image/png": "[encoded data removed]",
      "text/plain": [
       "<Figure size 432x288 with 1 Axes>"
      ]
     },
     "metadata": {
      "needs_background": "light"
     },
     "output_type": "display_data"
    }
   ],
   "source": [
    "history = model.fit(X_train, y_train, validation_data=(X_val, y_val), epochs=49, batch_size=128, verbose = 0)\n",
    "\n",
    "plt.plot(range(1, 50 + 1), history.history['loss'], label='Training Loss')\n",
    "plt.plot(range(1, 50 + 1), history.history['val_loss'], label='Validation Loss')\n",
    "\n",
    "plt.xlabel('Epoch')\n",
    "plt.ylabel('Loss')\n",
    "plt.legend()\n",
    "plt.show()"
   ]
  },
  {
   "cell_type": "code",
   "execution_count": 100,
   "metadata": {},
   "outputs": [
    {
     "name": "stdout",
     "output_type": "stream",
     "text": [
      "13/13 [==============================] - 0s 36ms/step - loss: 0.6690 - auc_267: 0.6535\n",
      "Loss:  0.6689580678939819 Auc:  0.6534959077835083\n"
     ]
    }
   ],
   "source": [
    "loss, auc = model.evaluate(X_test, y_test)\n",
    "\n",
    "\n",
    "print('Loss: ', str(loss) , 'Auc: ', str(auc))"
   ]
  },
  {
   "cell_type": "code",
   "execution_count": null,
   "metadata": {},
   "outputs": [],
   "source": []
  }
 ],
 "metadata": {
  "kernelspec": {
   "display_name": "Python 3",
   "language": "python",
   "name": "python3"
  },
  "language_info": {
   "codemirror_mode": {
    "name": "ipython",
    "version": 3
   },
   "file_extension": ".py",
   "mimetype": "text/x-python",
   "name": "python",
   "nbconvert_exporter": "python",
   "pygments_lexer": "ipython3",
   "version": "3.6.9"
  },
  "toc": {
   "base_numbering": 1,
   "nav_menu": {},
   "number_sections": false,
   "sideBar": true,
   "skip_h1_title": false,
   "title_cell": "Table of Contents",
   "title_sidebar": "Contents",
   "toc_cell": false,
   "toc_position": {},
   "toc_section_display": true,
   "toc_window_display": false
  },
  "varInspector": {
   "cols": {
    "lenName": 16,
    "lenType": 16,
    "lenVar": 40
   },
   "kernels_config": {
    "python": {
     "delete_cmd_postfix": "",
     "delete_cmd_prefix": "del ",
     "library": "var_list.py",
     "varRefreshCmd": "print(var_dic_list())"
    },
    "r": {
     "delete_cmd_postfix": ") ",
     "delete_cmd_prefix": "rm(",
     "library": "var_list.r",
     "varRefreshCmd": "cat(var_dic_list()) "
    }
   },
   "types_to_exclude": [
    "module",
    "function",
    "builtin_function_or_method",
    "instance",
    "_Feature"
   ],
   "window_display": false
  }
 },
 "nbformat": 4,
 "nbformat_minor": 2
}
